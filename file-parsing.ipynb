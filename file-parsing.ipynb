{
 "cells": [
  {
   "cell_type": "markdown",
   "metadata": {},
   "source": [
    "## File Parsing Lesson"
   ]
  },
  {
   "cell_type": "code",
   "execution_count": 1,
   "metadata": {},
   "outputs": [
    {
     "name": "stdout",
     "output_type": "stream",
     "text": [
      " Volume in drive C is Gateway\n",
      " Volume Serial Number is 1E69-AC29\n",
      "\n",
      " Directory of C:\\Users\\Joseph's laptop\\Desktop\\cms-workshop\n",
      "\n",
      "05/15/2019  01:09 PM    <DIR>          .\n",
      "05/15/2019  01:09 PM    <DIR>          ..\n",
      "05/15/2019  01:07 PM    <DIR>          .ipynb_checkpoints\n",
      "05/13/2019  11:25 AM    <DIR>          data\n",
      "05/13/2019  11:23 AM           191,618 data.zip\n",
      "05/15/2019  01:07 PM             8,687 MolSSI.ipynb\n",
      "05/15/2019  01:09 PM               660 Untitled.ipynb\n",
      "               3 File(s)        200,965 bytes\n",
      "               4 Dir(s)  417,332,080,640 bytes free\n"
     ]
    }
   ],
   "source": [
    "ls"
   ]
  },
  {
   "cell_type": "code",
   "execution_count": 2,
   "metadata": {},
   "outputs": [
    {
     "data": {
      "text/plain": [
       "\"C:\\\\Users\\\\Joseph's laptop\\\\Desktop\\\\cms-workshop\""
      ]
     },
     "execution_count": 2,
     "metadata": {},
     "output_type": "execute_result"
    }
   ],
   "source": [
    "pwd\n"
   ]
  },
  {
   "cell_type": "code",
   "execution_count": 3,
   "metadata": {},
   "outputs": [
    {
     "name": "stdout",
     "output_type": "stream",
     "text": [
      " Volume in drive C is Gateway\n",
      " Volume Serial Number is 1E69-AC29\n",
      "\n",
      " Directory of C:\\Users\\Joseph's laptop\\Desktop\\cms-workshop\n",
      "\n",
      "05/15/2019  01:11 PM    <DIR>          .\n",
      "05/15/2019  01:11 PM    <DIR>          ..\n",
      "05/15/2019  01:10 PM    <DIR>          .ipynb_checkpoints\n",
      "05/13/2019  11:25 AM    <DIR>          data\n",
      "05/13/2019  11:23 AM           191,618 data.zip\n",
      "05/15/2019  01:11 PM             1,948 file-parsing.ipynb\n",
      "05/15/2019  01:07 PM             8,687 MolSSI.ipynb\n",
      "               3 File(s)        202,253 bytes\n",
      "               4 Dir(s)  417,336,483,840 bytes free\n"
     ]
    }
   ],
   "source": [
    "ls"
   ]
  },
  {
   "cell_type": "code",
   "execution_count": 4,
   "metadata": {},
   "outputs": [],
   "source": [
    "import os"
   ]
  },
  {
   "cell_type": "code",
   "execution_count": 11,
   "metadata": {},
   "outputs": [
    {
     "name": "stdout",
     "output_type": "stream",
     "text": [
      "data\\data\\outfiles\\ethanol.out\n"
     ]
    }
   ],
   "source": [
    "ethanol_file = os.path.join('data','data','outfiles','ethanol.out')\n",
    "print (ethanol_file)"
   ]
  },
  {
   "cell_type": "code",
   "execution_count": 15,
   "metadata": {},
   "outputs": [],
   "source": [
    "outfile = open(ethanol_file,'r')\n",
    "data = outfile.readlines()"
   ]
  },
  {
   "cell_type": "code",
   "execution_count": 13,
   "metadata": {},
   "outputs": [
    {
     "data": {
      "text/plain": [
       "\"C:\\\\Users\\\\Joseph's laptop\\\\Desktop\\\\cms-workshop\""
      ]
     },
     "execution_count": 13,
     "metadata": {},
     "output_type": "execute_result"
    }
   ],
   "source": [
    "pwd"
   ]
  },
  {
   "cell_type": "code",
   "execution_count": 14,
   "metadata": {},
   "outputs": [
    {
     "name": "stdout",
     "output_type": "stream",
     "text": [
      " Volume in drive C is Gateway\n",
      " Volume Serial Number is 1E69-AC29\n",
      "\n",
      " Directory of C:\\Users\\Joseph's laptop\\Desktop\\cms-workshop\n",
      "\n",
      "05/15/2019  01:21 PM    <DIR>          .\n",
      "05/15/2019  01:21 PM    <DIR>          ..\n",
      "05/15/2019  01:10 PM    <DIR>          .ipynb_checkpoints\n",
      "05/13/2019  11:25 AM    <DIR>          data\n",
      "05/13/2019  11:23 AM           191,618 data.zip\n",
      "05/15/2019  01:21 PM             5,066 file-parsing.ipynb\n",
      "05/15/2019  01:07 PM             8,687 MolSSI.ipynb\n",
      "               3 File(s)        205,371 bytes\n",
      "               4 Dir(s)  417,336,766,464 bytes free\n"
     ]
    }
   ],
   "source": [
    "ls"
   ]
  },
  {
   "cell_type": "code",
   "execution_count": 10,
   "metadata": {},
   "outputs": [
    {
     "name": "stdout",
     "output_type": "stream",
     "text": [
      " Volume in drive C is Gateway\n",
      " Volume Serial Number is 1E69-AC29\n",
      "\n",
      " Directory of C:\\Users\\Joseph's laptop\\Desktop\\cms-workshop\\data\n",
      "\n",
      "05/13/2019  11:25 AM    <DIR>          .\n",
      "05/13/2019  11:25 AM    <DIR>          ..\n",
      "05/13/2019  11:25 AM    <DIR>          data\n",
      "               0 File(s)              0 bytes\n",
      "               3 Dir(s)  417,339,535,360 bytes free\n"
     ]
    }
   ],
   "source": [
    "ls data"
   ]
  },
  {
   "cell_type": "code",
   "execution_count": 16,
   "metadata": {},
   "outputs": [],
   "source": [
    "outfile.close(\n",
    ")"
   ]
  },
  {
   "cell_type": "code",
   "execution_count": 17,
   "metadata": {},
   "outputs": [
    {
     "name": "stdout",
     "output_type": "stream",
     "text": [
      "270\n"
     ]
    }
   ],
   "source": [
    "print(len(data))"
   ]
  },
  {
   "cell_type": "code",
   "execution_count": 18,
   "metadata": {},
   "outputs": [
    {
     "name": "stdout",
     "output_type": "stream",
     "text": [
      "  @DF-RHF Final Energy:  -154.09130176573018\n",
      "\n"
     ]
    }
   ],
   "source": [
    "for line in data:\n",
    "    if 'Final Energy' in line:\n",
    "        energy_line = line\n",
    "        print(energy_line)"
   ]
  },
  {
   "cell_type": "code",
   "execution_count": 21,
   "metadata": {},
   "outputs": [
    {
     "name": "stdout",
     "output_type": "stream",
     "text": [
      "['@DF-RHF', 'Final', 'Energy:', '-154.09130176573018']\n"
     ]
    }
   ],
   "source": [
    "words = energy_line.split()\n",
    "print(words)"
   ]
  },
  {
   "cell_type": "code",
   "execution_count": 23,
   "metadata": {},
   "outputs": [
    {
     "name": "stdout",
     "output_type": "stream",
     "text": [
      "-154.09130176573018\n"
     ]
    }
   ],
   "source": [
    "energy=words[3]\n",
    "print(energy)"
   ]
  },
  {
   "cell_type": "code",
   "execution_count": 24,
   "metadata": {},
   "outputs": [
    {
     "data": {
      "text/plain": [
       "str"
      ]
     },
     "execution_count": 24,
     "metadata": {},
     "output_type": "execute_result"
    }
   ],
   "source": [
    "type(energy\n",
    "    )"
   ]
  },
  {
   "cell_type": "code",
   "execution_count": 25,
   "metadata": {},
   "outputs": [],
   "source": [
    "energy = float(energy\n",
    "              )"
   ]
  },
  {
   "cell_type": "code",
   "execution_count": 26,
   "metadata": {},
   "outputs": [
    {
     "data": {
      "text/plain": [
       "float"
      ]
     },
     "execution_count": 26,
     "metadata": {},
     "output_type": "execute_result"
    }
   ],
   "source": [
    "type(energy\n",
    "    )"
   ]
  },
  {
   "cell_type": "code",
   "execution_count": 27,
   "metadata": {},
   "outputs": [
    {
     "data": {
      "text/plain": [
       "-96231.55886571616"
      ]
     },
     "execution_count": 27,
     "metadata": {},
     "output_type": "execute_result"
    }
   ],
   "source": [
    "energy*624.51\n"
   ]
  },
  {
   "cell_type": "code",
   "execution_count": 28,
   "metadata": {},
   "outputs": [
    {
     "name": "stdout",
     "output_type": "stream",
     "text": [
      "77\n"
     ]
    }
   ],
   "source": [
    "for linenum, line in enumerate(data):\n",
    "    if 'Center' in line:\n",
    "        center_line=linenum\n",
    "        print(center_line)"
   ]
  },
  {
   "cell_type": "code",
   "execution_count": 29,
   "metadata": {},
   "outputs": [
    {
     "name": "stdout",
     "output_type": "stream",
     "text": [
      "       Center              X                  Y                   Z               Mass       \n",
      "\n"
     ]
    }
   ],
   "source": [
    "print(data[77])"
   ]
  },
  {
   "cell_type": "code",
   "execution_count": 30,
   "metadata": {},
   "outputs": [
    {
     "name": "stdout",
     "output_type": "stream",
     "text": [
      "           H          0.278612764252     1.265047047666    -1.274211449480     1.007825032070\n",
      "\n"
     ]
    }
   ],
   "source": [
    "print(data[79])"
   ]
  },
  {
   "cell_type": "markdown",
   "metadata": {},
   "source": [
    "## Parsing multple files\n"
   ]
  },
  {
   "cell_type": "code",
   "execution_count": 31,
   "metadata": {},
   "outputs": [
    {
     "name": "stdout",
     "output_type": "stream",
     "text": [
      "data\\data\\outfiles\\*.out\n"
     ]
    }
   ],
   "source": [
    "file_location=os.path.join('data','data','outfiles','*.out')\n",
    "print (file_location)"
   ]
  },
  {
   "cell_type": "code",
   "execution_count": 32,
   "metadata": {},
   "outputs": [],
   "source": [
    "import glob"
   ]
  },
  {
   "cell_type": "code",
   "execution_count": 33,
   "metadata": {},
   "outputs": [
    {
     "name": "stdout",
     "output_type": "stream",
     "text": [
      "['data\\\\data\\\\outfiles\\\\butanol.out', 'data\\\\data\\\\outfiles\\\\decanol.out', 'data\\\\data\\\\outfiles\\\\ethanol.out', 'data\\\\data\\\\outfiles\\\\heptanol.out', 'data\\\\data\\\\outfiles\\\\hexanol.out', 'data\\\\data\\\\outfiles\\\\methanol.out', 'data\\\\data\\\\outfiles\\\\nonanol.out', 'data\\\\data\\\\outfiles\\\\octanol.out', 'data\\\\data\\\\outfiles\\\\pentanol.out', 'data\\\\data\\\\outfiles\\\\propanol.out']\n"
     ]
    }
   ],
   "source": [
    "filenames=glob.glob(file_location)\n",
    "print(filenames)"
   ]
  },
  {
   "cell_type": "code",
   "execution_count": 34,
   "metadata": {},
   "outputs": [
    {
     "name": "stdout",
     "output_type": "stream",
     "text": [
      "-232.1655798347283\n",
      "-466.3836241400086\n",
      "-154.09130176573018\n",
      "-349.27397687072676\n",
      "-310.2385332251633\n",
      "-115.04800861868374\n",
      "-427.3465180082815\n",
      "-388.3110864554743\n",
      "-271.20138119895074\n",
      "-193.12836249728798\n"
     ]
    }
   ],
   "source": [
    "for f in filenames:\n",
    "    outfile=open(f,'r')\n",
    "    data=outfile.readlines()\n",
    "    outfile.close()\n",
    "    for line in data:\n",
    "        if 'Final Energy' in line:\n",
    "            energy_line=line\n",
    "            words=energy_line.split()\n",
    "            energy=float (words [3])\n",
    "            print(energy)"
   ]
  },
  {
   "cell_type": "code",
   "execution_count": 35,
   "metadata": {},
   "outputs": [
    {
     "name": "stdout",
     "output_type": "stream",
     "text": [
      "data\\data\\outfiles\\butanol.out\n"
     ]
    }
   ],
   "source": [
    "first_file= filenames[0]\n",
    "print(first_file)\n"
   ]
  },
  {
   "cell_type": "code",
   "execution_count": 36,
   "metadata": {},
   "outputs": [
    {
     "name": "stdout",
     "output_type": "stream",
     "text": [
      "butanol.out\n"
     ]
    }
   ],
   "source": [
    "file_name=os.path.basename(first_file)\n",
    "print (file_name)"
   ]
  },
  {
   "cell_type": "code",
   "execution_count": 37,
   "metadata": {},
   "outputs": [
    {
     "name": "stdout",
     "output_type": "stream",
     "text": [
      "butanol\n"
     ]
    }
   ],
   "source": [
    "first_file_split = file_name.split('.')\n",
    "first= first_file_split[0]\n",
    "print (first)"
   ]
  },
  {
   "cell_type": "code",
   "execution_count": 40,
   "metadata": {},
   "outputs": [
    {
     "name": "stdout",
     "output_type": "stream",
     "text": [
      "butanol -232.1655798347283\n",
      "decanol -466.3836241400086\n",
      "ethanol -154.09130176573018\n",
      "heptanol -349.27397687072676\n",
      "hexanol -310.2385332251633\n",
      "methanol -115.04800861868374\n",
      "nonanol -427.3465180082815\n",
      "octanol -388.3110864554743\n",
      "pentanol -271.20138119895074\n",
      "propanol -193.12836249728798\n"
     ]
    }
   ],
   "source": [
    "for f in filenames:\n",
    "    file_name=os.path.basename(f)\n",
    "    split_filename=file_name.split('.')\n",
    "    molecule_name=split_filename[0]\n",
    "    \n",
    "    outfile=open(f,'r')\n",
    "    data=outfile.readlines()\n",
    "    outfile.close()\n",
    "    for line in data:\n",
    "        if 'Final Energy' in line:\n",
    "            energy_line=line\n",
    "            words=energy_line.split()\n",
    "            energy=float (words [3])\n",
    "            print(molecule_name, energy)"
   ]
  },
  {
   "cell_type": "code",
   "execution_count": 42,
   "metadata": {},
   "outputs": [],
   "source": [
    "datafile= open('energies.txt', 'w+')\n",
    "\n",
    "\n",
    "\n",
    "for f in filenames:\n",
    "    file_name=os.path.basename(f)\n",
    "    split_filename=file_name.split('.')\n",
    "    molecule_name=split_filename[0]\n",
    "    \n",
    "    outfile=open(f,'r')\n",
    "    data=outfile.readlines()\n",
    "    outfile.close()\n",
    "    for line in data:\n",
    "        if 'Final Energy' in line:\n",
    "            energy_line=line\n",
    "            words=energy_line.split()\n",
    "            energy=float (words [3])\n",
    "            datafile.write(F'{molecule_name} \\t {energy}\\n')\n",
    "datafile.close()"
   ]
  },
  {
   "cell_type": "code",
   "execution_count": null,
   "metadata": {},
   "outputs": [],
   "source": []
  }
 ],
 "metadata": {
  "kernelspec": {
   "display_name": "Python 3",
   "language": "python",
   "name": "python3"
  },
  "language_info": {
   "codemirror_mode": {
    "name": "ipython",
    "version": 3
   },
   "file_extension": ".py",
   "mimetype": "text/x-python",
   "name": "python",
   "nbconvert_exporter": "python",
   "pygments_lexer": "ipython3",
   "version": "3.7.3"
  }
 },
 "nbformat": 4,
 "nbformat_minor": 2
}
